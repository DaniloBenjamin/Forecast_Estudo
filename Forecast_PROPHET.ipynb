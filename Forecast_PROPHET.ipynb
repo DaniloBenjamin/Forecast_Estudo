{
 "cells": [
  {
   "cell_type": "markdown",
   "metadata": {},
   "source": [
    "## Instalando e Carregando os Pacotes"
   ]
  },
  {
   "cell_type": "code",
   "execution_count": 2,
   "metadata": {},
   "outputs": [],
   "source": [
    "# Para atualizar um pacote, execute o comando abaixo no terminal ou prompt de comando:\n",
    "# pip install -U nome_pacote\n",
    "\n",
    "# Para instalar a versão exata de um pacote, execute o comando abaixo no terminal ou prompt de comando:\n",
    "# !pip install nome_pacote==versão_desejada\n",
    "\n",
    "# Depois de instalar ou atualizar o pacote, reinicie o jupyter notebook.\n",
    "\n",
    "# Instala o pacote watermark. \n",
    "# Esse pacote é usado para gravar as versões de outros pacotes usados neste jupyter notebook.\n",
    "!pip install -q -U watermark"
   ]
  },
  {
   "cell_type": "code",
   "execution_count": 3,
   "metadata": {},
   "outputs": [],
   "source": [
    "!pip install -q pystan"
   ]
  },
  {
   "cell_type": "code",
   "execution_count": 4,
   "metadata": {},
   "outputs": [],
   "source": [
    "!pip install -q prophet"
   ]
  },
  {
   "cell_type": "code",
   "execution_count": 5,
   "metadata": {},
   "outputs": [],
   "source": [
    "# Imports\n",
    "import sklearn\n",
    "import pandas as pd\n",
    "import numpy as np\n",
    "import datetime\n",
    "import requests\n",
    "import warnings\n",
    "import matplotlib.pyplot as plt\n",
    "import matplotlib.dates as mdates\n",
    "import statsmodels.api as sm\n",
    "from sklearn.model_selection import TimeSeriesSplit\n",
    "from statsmodels.tsa.seasonal import seasonal_decompose\n",
    "from sklearn.metrics import mean_squared_error, mean_absolute_error\n",
    "from sklearn.model_selection import train_test_split\n",
    "import prophet\n",
    "from prophet import Prophet"
   ]
  },
  {
   "cell_type": "markdown",
   "metadata": {},
   "source": [
    "## Carregando os Dados"
   ]
  },
  {
   "cell_type": "code",
   "execution_count": 7,
   "metadata": {},
   "outputs": [],
   "source": [
    "# Carrega o dataset\n",
    "dados = pd.read_csv('dados/dataset.csv')"
   ]
  },
  {
   "cell_type": "code",
   "execution_count": 8,
   "metadata": {},
   "outputs": [
    {
     "data": {
      "text/html": [
       "<div>\n",
       "<style scoped>\n",
       "    .dataframe tbody tr th:only-of-type {\n",
       "        vertical-align: middle;\n",
       "    }\n",
       "\n",
       "    .dataframe tbody tr th {\n",
       "        vertical-align: top;\n",
       "    }\n",
       "\n",
       "    .dataframe thead th {\n",
       "        text-align: right;\n",
       "    }\n",
       "</style>\n",
       "<table border=\"1\" class=\"dataframe\">\n",
       "  <thead>\n",
       "    <tr style=\"text-align: right;\">\n",
       "      <th></th>\n",
       "      <th>data</th>\n",
       "      <th>loja</th>\n",
       "      <th>produto</th>\n",
       "      <th>itens_vendidos</th>\n",
       "    </tr>\n",
       "  </thead>\n",
       "  <tbody>\n",
       "    <tr>\n",
       "      <th>0</th>\n",
       "      <td>2013-01-01</td>\n",
       "      <td>1</td>\n",
       "      <td>1</td>\n",
       "      <td>13</td>\n",
       "    </tr>\n",
       "    <tr>\n",
       "      <th>1</th>\n",
       "      <td>2013-01-02</td>\n",
       "      <td>1</td>\n",
       "      <td>1</td>\n",
       "      <td>11</td>\n",
       "    </tr>\n",
       "    <tr>\n",
       "      <th>2</th>\n",
       "      <td>2013-01-03</td>\n",
       "      <td>1</td>\n",
       "      <td>1</td>\n",
       "      <td>14</td>\n",
       "    </tr>\n",
       "    <tr>\n",
       "      <th>3</th>\n",
       "      <td>2013-01-04</td>\n",
       "      <td>1</td>\n",
       "      <td>1</td>\n",
       "      <td>13</td>\n",
       "    </tr>\n",
       "    <tr>\n",
       "      <th>4</th>\n",
       "      <td>2013-01-05</td>\n",
       "      <td>1</td>\n",
       "      <td>1</td>\n",
       "      <td>10</td>\n",
       "    </tr>\n",
       "  </tbody>\n",
       "</table>\n",
       "</div>"
      ],
      "text/plain": [
       "         data  loja  produto  itens_vendidos\n",
       "0  2013-01-01     1        1              13\n",
       "1  2013-01-02     1        1              11\n",
       "2  2013-01-03     1        1              14\n",
       "3  2013-01-04     1        1              13\n",
       "4  2013-01-05     1        1              10"
      ]
     },
     "execution_count": 8,
     "metadata": {},
     "output_type": "execute_result"
    }
   ],
   "source": [
    "dados.head()"
   ]
  },
  {
   "cell_type": "code",
   "execution_count": 9,
   "metadata": {},
   "outputs": [],
   "source": [
    "# Filtramos os dados da mesma forma que fizemos na Parte 1\n",
    "dados_ts = dados[dados['loja'] == 1]\n",
    "dados_ts = dados_ts[dados_ts['produto'] == 1]\n",
    "dados_ts = dados_ts[['data','itens_vendidos']]\n",
    "dados_ts = dados_ts.set_index('data')"
   ]
  },
  {
   "cell_type": "code",
   "execution_count": 10,
   "metadata": {},
   "outputs": [
    {
     "data": {
      "text/html": [
       "<div>\n",
       "<style scoped>\n",
       "    .dataframe tbody tr th:only-of-type {\n",
       "        vertical-align: middle;\n",
       "    }\n",
       "\n",
       "    .dataframe tbody tr th {\n",
       "        vertical-align: top;\n",
       "    }\n",
       "\n",
       "    .dataframe thead th {\n",
       "        text-align: right;\n",
       "    }\n",
       "</style>\n",
       "<table border=\"1\" class=\"dataframe\">\n",
       "  <thead>\n",
       "    <tr style=\"text-align: right;\">\n",
       "      <th></th>\n",
       "      <th>itens_vendidos</th>\n",
       "    </tr>\n",
       "    <tr>\n",
       "      <th>data</th>\n",
       "      <th></th>\n",
       "    </tr>\n",
       "  </thead>\n",
       "  <tbody>\n",
       "    <tr>\n",
       "      <th>2013-01-01</th>\n",
       "      <td>13</td>\n",
       "    </tr>\n",
       "    <tr>\n",
       "      <th>2013-01-02</th>\n",
       "      <td>11</td>\n",
       "    </tr>\n",
       "    <tr>\n",
       "      <th>2013-01-03</th>\n",
       "      <td>14</td>\n",
       "    </tr>\n",
       "    <tr>\n",
       "      <th>2013-01-04</th>\n",
       "      <td>13</td>\n",
       "    </tr>\n",
       "    <tr>\n",
       "      <th>2013-01-05</th>\n",
       "      <td>10</td>\n",
       "    </tr>\n",
       "  </tbody>\n",
       "</table>\n",
       "</div>"
      ],
      "text/plain": [
       "            itens_vendidos\n",
       "data                      \n",
       "2013-01-01              13\n",
       "2013-01-02              11\n",
       "2013-01-03              14\n",
       "2013-01-04              13\n",
       "2013-01-05              10"
      ]
     },
     "execution_count": 10,
     "metadata": {},
     "output_type": "execute_result"
    }
   ],
   "source": [
    "dados_ts.head()"
   ]
  },
  {
   "cell_type": "markdown",
   "metadata": {},
   "source": [
    "## Estacionarização da Série e Preparação dos Dados"
   ]
  },
  {
   "cell_type": "markdown",
   "metadata": {},
   "source": [
    "Mesma técnica usada na Parte 1."
   ]
  },
  {
   "cell_type": "code",
   "execution_count": 11,
   "metadata": {},
   "outputs": [],
   "source": [
    "# Diferenciação\n",
    "first_diff = dados_ts.itens_vendidos - dados_ts.itens_vendidos.shift(1)\n",
    "first_diff = first_diff.dropna()"
   ]
  },
  {
   "cell_type": "markdown",
   "metadata": {},
   "source": [
    "O Prophet impõe a condição estrita de que as colunas de entrada **devem** ser nomeadas **ds** e **y**."
   ]
  },
  {
   "cell_type": "code",
   "execution_count": 12,
   "metadata": {},
   "outputs": [],
   "source": [
    "# Ajusta os nomes das colunas conforme requerido pelo Prophet\n",
    "first_diff = pd.DataFrame(data = {'ds': first_diff.index, 'y': first_diff.values})"
   ]
  },
  {
   "cell_type": "code",
   "execution_count": 13,
   "metadata": {},
   "outputs": [],
   "source": [
    "# Data limite\n",
    "cutoff_date = '2017-10-01'"
   ]
  },
  {
   "cell_type": "code",
   "execution_count": 14,
   "metadata": {},
   "outputs": [],
   "source": [
    "# Prepara datasets de treino e teste\n",
    "amostra_treino = first_diff.loc[first_diff.ds < cutoff_date]\n",
    "amostra_teste = first_diff.loc[first_diff.ds >= cutoff_date]"
   ]
  },
  {
   "cell_type": "code",
   "execution_count": 15,
   "metadata": {},
   "outputs": [
    {
     "data": {
      "text/html": [
       "<div>\n",
       "<style scoped>\n",
       "    .dataframe tbody tr th:only-of-type {\n",
       "        vertical-align: middle;\n",
       "    }\n",
       "\n",
       "    .dataframe tbody tr th {\n",
       "        vertical-align: top;\n",
       "    }\n",
       "\n",
       "    .dataframe thead th {\n",
       "        text-align: right;\n",
       "    }\n",
       "</style>\n",
       "<table border=\"1\" class=\"dataframe\">\n",
       "  <thead>\n",
       "    <tr style=\"text-align: right;\">\n",
       "      <th></th>\n",
       "      <th>ds</th>\n",
       "      <th>y</th>\n",
       "    </tr>\n",
       "  </thead>\n",
       "  <tbody>\n",
       "    <tr>\n",
       "      <th>0</th>\n",
       "      <td>2013-01-02</td>\n",
       "      <td>-2.0</td>\n",
       "    </tr>\n",
       "    <tr>\n",
       "      <th>1</th>\n",
       "      <td>2013-01-03</td>\n",
       "      <td>3.0</td>\n",
       "    </tr>\n",
       "    <tr>\n",
       "      <th>2</th>\n",
       "      <td>2013-01-04</td>\n",
       "      <td>-1.0</td>\n",
       "    </tr>\n",
       "    <tr>\n",
       "      <th>3</th>\n",
       "      <td>2013-01-05</td>\n",
       "      <td>-3.0</td>\n",
       "    </tr>\n",
       "    <tr>\n",
       "      <th>4</th>\n",
       "      <td>2013-01-06</td>\n",
       "      <td>2.0</td>\n",
       "    </tr>\n",
       "  </tbody>\n",
       "</table>\n",
       "</div>"
      ],
      "text/plain": [
       "           ds    y\n",
       "0  2013-01-02 -2.0\n",
       "1  2013-01-03  3.0\n",
       "2  2013-01-04 -1.0\n",
       "3  2013-01-05 -3.0\n",
       "4  2013-01-06  2.0"
      ]
     },
     "execution_count": 15,
     "metadata": {},
     "output_type": "execute_result"
    }
   ],
   "source": [
    "amostra_treino.head()"
   ]
  },
  {
   "cell_type": "code",
   "execution_count": 16,
   "metadata": {},
   "outputs": [
    {
     "data": {
      "text/html": [
       "<div>\n",
       "<style scoped>\n",
       "    .dataframe tbody tr th:only-of-type {\n",
       "        vertical-align: middle;\n",
       "    }\n",
       "\n",
       "    .dataframe tbody tr th {\n",
       "        vertical-align: top;\n",
       "    }\n",
       "\n",
       "    .dataframe thead th {\n",
       "        text-align: right;\n",
       "    }\n",
       "</style>\n",
       "<table border=\"1\" class=\"dataframe\">\n",
       "  <thead>\n",
       "    <tr style=\"text-align: right;\">\n",
       "      <th></th>\n",
       "      <th>ds</th>\n",
       "      <th>y</th>\n",
       "    </tr>\n",
       "  </thead>\n",
       "  <tbody>\n",
       "    <tr>\n",
       "      <th>1733</th>\n",
       "      <td>2017-10-01</td>\n",
       "      <td>-9.0</td>\n",
       "    </tr>\n",
       "    <tr>\n",
       "      <th>1734</th>\n",
       "      <td>2017-10-02</td>\n",
       "      <td>-9.0</td>\n",
       "    </tr>\n",
       "    <tr>\n",
       "      <th>1735</th>\n",
       "      <td>2017-10-03</td>\n",
       "      <td>6.0</td>\n",
       "    </tr>\n",
       "    <tr>\n",
       "      <th>1736</th>\n",
       "      <td>2017-10-04</td>\n",
       "      <td>-3.0</td>\n",
       "    </tr>\n",
       "    <tr>\n",
       "      <th>1737</th>\n",
       "      <td>2017-10-05</td>\n",
       "      <td>5.0</td>\n",
       "    </tr>\n",
       "  </tbody>\n",
       "</table>\n",
       "</div>"
      ],
      "text/plain": [
       "              ds    y\n",
       "1733  2017-10-01 -9.0\n",
       "1734  2017-10-02 -9.0\n",
       "1735  2017-10-03  6.0\n",
       "1736  2017-10-04 -3.0\n",
       "1737  2017-10-05  5.0"
      ]
     },
     "execution_count": 16,
     "metadata": {},
     "output_type": "execute_result"
    }
   ],
   "source": [
    "amostra_teste.head()"
   ]
  },
  {
   "cell_type": "markdown",
   "metadata": {},
   "source": [
    "## Modelo Facebook Prophet"
   ]
  },
  {
   "cell_type": "markdown",
   "metadata": {},
   "source": [
    "* O Facebook Prophet é uma biblioteca de código aberto projetada para fazer previsões de séries temporais univariadas. Neste estudo de caso, a variável que estamos tentando prever é o número de itens vendidos.\n",
    "* O Prophet encontra automaticamente os hiperparâmetros ideais para o modelo.\n",
    "* O Prophet decompõe a série temporal em tendência, sazonalidade e efeito de feriado."
   ]
  },
  {
   "cell_type": "markdown",
   "metadata": {},
   "source": [
    "**Como o Prophet Funciona:**\n",
    "\n",
    "A entrada para o modelo Prophet é sempre um dataframe com duas colunas:\n",
    "\n",
    "* ds - carimbo de data em um formato esperado pelos pandas.\n",
    "* y - valor numérico. Este é o valor que queremos prever\n"
   ]
  },
  {
   "cell_type": "markdown",
   "metadata": {},
   "source": [
    "O Prophet gera um modelo de regressão aditivo com quatro componentes principais:\n",
    "\n",
    "$$y(t) = g(t) + s(t) + h(t)$$"
   ]
  },
  {
   "cell_type": "markdown",
   "metadata": {},
   "source": [
    "Tendência $g(t)$\n",
    "\n",
    "* $g(t)$ é a função de tendência. Esta função modela a mudança não periódica no valor da série temporal."
   ]
  },
  {
   "cell_type": "markdown",
   "metadata": {},
   "source": [
    "Sazonalidade $s(t)$\n",
    "\n",
    "* $s(t)$ é a função de sazonalidade (sazonalidade semanal e anual). Esta função modela as mudanças periódicas."
   ]
  },
  {
   "cell_type": "markdown",
   "metadata": {},
   "source": [
    "Holiday $h(t)$\n",
    "\n",
    "* $h(t)$ é a função de feriados. Esta função modela os efeitos dos feriados que ocorrem em horários potencialmente irregulares durante um ou mais dias."
   ]
  },
  {
   "cell_type": "markdown",
   "metadata": {},
   "source": [
    "Previsão $y(t)$\n",
    "\n",
    "* $y(t)$ é exatamente a previsão do modelo."
   ]
  },
  {
   "cell_type": "code",
   "execution_count": 17,
   "metadata": {},
   "outputs": [],
   "source": [
    "# Cria o modelo\n",
    "modelo = Prophet()"
   ]
  },
  {
   "cell_type": "code",
   "execution_count": 18,
   "metadata": {},
   "outputs": [
    {
     "name": "stderr",
     "output_type": "stream",
     "text": [
      "15:53:36 - cmdstanpy - INFO - Chain [1] start processing\n",
      "15:53:36 - cmdstanpy - INFO - Chain [1] done processing\n"
     ]
    },
    {
     "data": {
      "text/plain": [
       "<prophet.forecaster.Prophet at 0x7fdf0d6d81c0>"
      ]
     },
     "execution_count": 18,
     "metadata": {},
     "output_type": "execute_result"
    }
   ],
   "source": [
    "# Treina o modelo\n",
    "modelo.fit(amostra_treino)"
   ]
  },
  {
   "cell_type": "code",
   "execution_count": 19,
   "metadata": {},
   "outputs": [
    {
     "data": {
      "text/plain": [
       "(92, 2)"
      ]
     },
     "execution_count": 19,
     "metadata": {},
     "output_type": "execute_result"
    }
   ],
   "source": [
    "amostra_teste.shape"
   ]
  },
  {
   "cell_type": "code",
   "execution_count": 20,
   "metadata": {},
   "outputs": [],
   "source": [
    "# Prepara os dados de teste para as previsões\n",
    "futuro = modelo.make_future_dataframe(periods = amostra_teste.shape[0])"
   ]
  },
  {
   "cell_type": "code",
   "execution_count": 21,
   "metadata": {},
   "outputs": [],
   "source": [
    "# Previsões\n",
    "previsoes_do_profeta = modelo.predict(futuro)"
   ]
  },
  {
   "cell_type": "code",
   "execution_count": 22,
   "metadata": {},
   "outputs": [
    {
     "data": {
      "text/html": [
       "<div>\n",
       "<style scoped>\n",
       "    .dataframe tbody tr th:only-of-type {\n",
       "        vertical-align: middle;\n",
       "    }\n",
       "\n",
       "    .dataframe tbody tr th {\n",
       "        vertical-align: top;\n",
       "    }\n",
       "\n",
       "    .dataframe thead th {\n",
       "        text-align: right;\n",
       "    }\n",
       "</style>\n",
       "<table border=\"1\" class=\"dataframe\">\n",
       "  <thead>\n",
       "    <tr style=\"text-align: right;\">\n",
       "      <th></th>\n",
       "      <th>ds</th>\n",
       "      <th>trend</th>\n",
       "      <th>yhat_lower</th>\n",
       "      <th>yhat_upper</th>\n",
       "      <th>trend_lower</th>\n",
       "      <th>trend_upper</th>\n",
       "      <th>additive_terms</th>\n",
       "      <th>additive_terms_lower</th>\n",
       "      <th>additive_terms_upper</th>\n",
       "      <th>weekly</th>\n",
       "      <th>weekly_lower</th>\n",
       "      <th>weekly_upper</th>\n",
       "      <th>yearly</th>\n",
       "      <th>yearly_lower</th>\n",
       "      <th>yearly_upper</th>\n",
       "      <th>multiplicative_terms</th>\n",
       "      <th>multiplicative_terms_lower</th>\n",
       "      <th>multiplicative_terms_upper</th>\n",
       "      <th>yhat</th>\n",
       "    </tr>\n",
       "  </thead>\n",
       "  <tbody>\n",
       "    <tr>\n",
       "      <th>0</th>\n",
       "      <td>2013-01-02</td>\n",
       "      <td>-0.031204</td>\n",
       "      <td>-7.172599</td>\n",
       "      <td>8.178508</td>\n",
       "      <td>-0.031204</td>\n",
       "      <td>-0.031204</td>\n",
       "      <td>0.638651</td>\n",
       "      <td>0.638651</td>\n",
       "      <td>0.638651</td>\n",
       "      <td>0.686750</td>\n",
       "      <td>0.686750</td>\n",
       "      <td>0.686750</td>\n",
       "      <td>-0.048100</td>\n",
       "      <td>-0.048100</td>\n",
       "      <td>-0.048100</td>\n",
       "      <td>0.0</td>\n",
       "      <td>0.0</td>\n",
       "      <td>0.0</td>\n",
       "      <td>0.607447</td>\n",
       "    </tr>\n",
       "    <tr>\n",
       "      <th>1</th>\n",
       "      <td>2013-01-03</td>\n",
       "      <td>-0.031172</td>\n",
       "      <td>-7.531538</td>\n",
       "      <td>7.996929</td>\n",
       "      <td>-0.031172</td>\n",
       "      <td>-0.031172</td>\n",
       "      <td>0.499024</td>\n",
       "      <td>0.499024</td>\n",
       "      <td>0.499024</td>\n",
       "      <td>0.561623</td>\n",
       "      <td>0.561623</td>\n",
       "      <td>0.561623</td>\n",
       "      <td>-0.062599</td>\n",
       "      <td>-0.062599</td>\n",
       "      <td>-0.062599</td>\n",
       "      <td>0.0</td>\n",
       "      <td>0.0</td>\n",
       "      <td>0.0</td>\n",
       "      <td>0.467852</td>\n",
       "    </tr>\n",
       "    <tr>\n",
       "      <th>2</th>\n",
       "      <td>2013-01-04</td>\n",
       "      <td>-0.031141</td>\n",
       "      <td>-6.938180</td>\n",
       "      <td>9.818736</td>\n",
       "      <td>-0.031141</td>\n",
       "      <td>-0.031141</td>\n",
       "      <td>1.659885</td>\n",
       "      <td>1.659885</td>\n",
       "      <td>1.659885</td>\n",
       "      <td>1.735140</td>\n",
       "      <td>1.735140</td>\n",
       "      <td>1.735140</td>\n",
       "      <td>-0.075255</td>\n",
       "      <td>-0.075255</td>\n",
       "      <td>-0.075255</td>\n",
       "      <td>0.0</td>\n",
       "      <td>0.0</td>\n",
       "      <td>0.0</td>\n",
       "      <td>1.628744</td>\n",
       "    </tr>\n",
       "    <tr>\n",
       "      <th>3</th>\n",
       "      <td>2013-01-05</td>\n",
       "      <td>-0.031110</td>\n",
       "      <td>-5.469952</td>\n",
       "      <td>10.361568</td>\n",
       "      <td>-0.031110</td>\n",
       "      <td>-0.031110</td>\n",
       "      <td>1.661455</td>\n",
       "      <td>1.661455</td>\n",
       "      <td>1.661455</td>\n",
       "      <td>1.747121</td>\n",
       "      <td>1.747121</td>\n",
       "      <td>1.747121</td>\n",
       "      <td>-0.085666</td>\n",
       "      <td>-0.085666</td>\n",
       "      <td>-0.085666</td>\n",
       "      <td>0.0</td>\n",
       "      <td>0.0</td>\n",
       "      <td>0.0</td>\n",
       "      <td>1.630345</td>\n",
       "    </tr>\n",
       "    <tr>\n",
       "      <th>4</th>\n",
       "      <td>2013-01-06</td>\n",
       "      <td>-0.031079</td>\n",
       "      <td>-7.347883</td>\n",
       "      <td>8.065675</td>\n",
       "      <td>-0.031079</td>\n",
       "      <td>-0.031079</td>\n",
       "      <td>0.758049</td>\n",
       "      <td>0.758049</td>\n",
       "      <td>0.758049</td>\n",
       "      <td>0.851556</td>\n",
       "      <td>0.851556</td>\n",
       "      <td>0.851556</td>\n",
       "      <td>-0.093507</td>\n",
       "      <td>-0.093507</td>\n",
       "      <td>-0.093507</td>\n",
       "      <td>0.0</td>\n",
       "      <td>0.0</td>\n",
       "      <td>0.0</td>\n",
       "      <td>0.726970</td>\n",
       "    </tr>\n",
       "  </tbody>\n",
       "</table>\n",
       "</div>"
      ],
      "text/plain": [
       "          ds     trend  yhat_lower  yhat_upper  trend_lower  trend_upper  \\\n",
       "0 2013-01-02 -0.031204   -7.172599    8.178508    -0.031204    -0.031204   \n",
       "1 2013-01-03 -0.031172   -7.531538    7.996929    -0.031172    -0.031172   \n",
       "2 2013-01-04 -0.031141   -6.938180    9.818736    -0.031141    -0.031141   \n",
       "3 2013-01-05 -0.031110   -5.469952   10.361568    -0.031110    -0.031110   \n",
       "4 2013-01-06 -0.031079   -7.347883    8.065675    -0.031079    -0.031079   \n",
       "\n",
       "   additive_terms  additive_terms_lower  additive_terms_upper    weekly  \\\n",
       "0        0.638651              0.638651              0.638651  0.686750   \n",
       "1        0.499024              0.499024              0.499024  0.561623   \n",
       "2        1.659885              1.659885              1.659885  1.735140   \n",
       "3        1.661455              1.661455              1.661455  1.747121   \n",
       "4        0.758049              0.758049              0.758049  0.851556   \n",
       "\n",
       "   weekly_lower  weekly_upper    yearly  yearly_lower  yearly_upper  \\\n",
       "0      0.686750      0.686750 -0.048100     -0.048100     -0.048100   \n",
       "1      0.561623      0.561623 -0.062599     -0.062599     -0.062599   \n",
       "2      1.735140      1.735140 -0.075255     -0.075255     -0.075255   \n",
       "3      1.747121      1.747121 -0.085666     -0.085666     -0.085666   \n",
       "4      0.851556      0.851556 -0.093507     -0.093507     -0.093507   \n",
       "\n",
       "   multiplicative_terms  multiplicative_terms_lower  \\\n",
       "0                   0.0                         0.0   \n",
       "1                   0.0                         0.0   \n",
       "2                   0.0                         0.0   \n",
       "3                   0.0                         0.0   \n",
       "4                   0.0                         0.0   \n",
       "\n",
       "   multiplicative_terms_upper      yhat  \n",
       "0                         0.0  0.607447  \n",
       "1                         0.0  0.467852  \n",
       "2                         0.0  1.628744  \n",
       "3                         0.0  1.630345  \n",
       "4                         0.0  0.726970  "
      ]
     },
     "execution_count": 22,
     "metadata": {},
     "output_type": "execute_result"
    }
   ],
   "source": [
    "previsoes_do_profeta.head()"
   ]
  },
  {
   "cell_type": "markdown",
   "metadata": {},
   "source": [
    "Prophet retorna um grande dataframe que consiste em muitas colunas. As colunas importantes são:\n",
    "\n",
    "* ds - datestamp\n",
    "* yhat - valor previsto\n",
    "* yhat_lower - limite inferior da previsão\n",
    "* yhat_upper - limite superior da previsão"
   ]
  },
  {
   "cell_type": "markdown",
   "metadata": {},
   "source": [
    "## Avaliação do Modelo"
   ]
  },
  {
   "cell_type": "markdown",
   "metadata": {},
   "source": [
    "Usaremos o Erro Absoluto Médio (MAE) e o Erro Quadrático Médio (MSE) para avaliar o modelo."
   ]
  },
  {
   "cell_type": "code",
   "execution_count": 23,
   "metadata": {},
   "outputs": [],
   "source": [
    "# Definimos a coluna ds como índice nas previsões\n",
    "previsoes_do_profeta = previsoes_do_profeta.set_index('ds')"
   ]
  },
  {
   "cell_type": "code",
   "execution_count": 24,
   "metadata": {},
   "outputs": [],
   "source": [
    "# Definimos a coluna ds como índice nos dados teste\n",
    "amostra_teste = amostra_teste.set_index('ds')"
   ]
  },
  {
   "cell_type": "code",
   "execution_count": 25,
   "metadata": {},
   "outputs": [],
   "source": [
    "# Extraímos as previsões que usaremos para avaliar o modelo\n",
    "previsoes = previsoes_do_profeta.yhat.loc[previsoes_do_profeta.index >= cutoff_date]"
   ]
  },
  {
   "cell_type": "code",
   "execution_count": 26,
   "metadata": {},
   "outputs": [
    {
     "name": "stdout",
     "output_type": "stream",
     "text": [
      "Prophet MAE =  5.143407938317788\n"
     ]
    }
   ],
   "source": [
    "print('Prophet MAE = ', mean_absolute_error(previsoes, amostra_teste))"
   ]
  },
  {
   "cell_type": "code",
   "execution_count": 27,
   "metadata": {},
   "outputs": [
    {
     "name": "stdout",
     "output_type": "stream",
     "text": [
      "Prophet MSE =  41.51376056544342\n"
     ]
    }
   ],
   "source": [
    "print('Prophet MSE = ', mean_squared_error(previsoes, amostra_teste))"
   ]
  },
  {
   "cell_type": "code",
   "execution_count": 28,
   "metadata": {},
   "outputs": [],
   "source": [
    "# Prepara os dados para o Plot\n",
    "amostra_teste.index = pd.to_datetime(amostra_teste.index)"
   ]
  },
  {
   "cell_type": "code",
   "execution_count": 29,
   "metadata": {},
   "outputs": [],
   "source": [
    "# Prepara os dados para o Plot\n",
    "previsoes.index = pd.to_datetime(previsoes.index)"
   ]
  },
  {
   "cell_type": "code",
   "execution_count": 30,
   "metadata": {},
   "outputs": [
    {
     "data": {
      "text/plain": [
       "Text(0.5, 1.0, 'Previsões Finais do Profeta')"
      ]
     },
     "execution_count": 30,
     "metadata": {},
     "output_type": "execute_result"
    },
    {
     "data": {
      "image/png": "[encoded data removed]",
      "text/plain": [
       "<Figure size 1200x600 with 1 Axes>"
      ]
     },
     "metadata": {},
     "output_type": "display_data"
    }
   ],
   "source": [
    "# Plot\n",
    "fig = plt.figure(figsize = (12,6))\n",
    "sales = plt.plot(amostra_teste[cutoff_date:], label = 'Valor Observado')\n",
    "forecast = plt.plot(previsoes, label = 'Valor Previsto')\n",
    "plt.legend(loc = 'best')\n",
    "plt.title(\"Previsões Finais do Profeta\")"
   ]
  }
 ],
 "metadata": {
  "kernelspec": {
   "display_name": "Python 3 (ipykernel)",
   "language": "python",
   "name": "python3"
  },
  "language_info": {
   "codemirror_mode": {
    "name": "ipython",
    "version": 3
   },
   "file_extension": ".py",
   "mimetype": "text/x-python",
   "name": "python",
   "nbconvert_exporter": "python",
   "pygments_lexer": "ipython3",
   "version": "3.9.13"
  }
 },
 "nbformat": 4,
 "nbformat_minor": 4
}
